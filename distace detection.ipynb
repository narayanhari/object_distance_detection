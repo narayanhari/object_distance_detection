{
 "cells": [
  {
   "cell_type": "code",
   "execution_count": 1,
   "metadata": {},
   "outputs": [
    {
     "name": "stderr",
     "output_type": "stream",
     "text": [
      "Using TensorFlow backend.\n"
     ]
    }
   ],
   "source": [
    "from mtcnn.mtcnn import MTCNN"
   ]
  },
  {
   "cell_type": "code",
   "execution_count": 2,
   "metadata": {
    "collapsed": true
   },
   "outputs": [],
   "source": [
    "import math\n",
    "import cv2"
   ]
  },
  {
   "cell_type": "code",
   "execution_count": 3,
   "metadata": {},
   "outputs": [
    {
     "data": {
      "text/plain": [
       "320.0"
      ]
     },
     "execution_count": 3,
     "metadata": {},
     "output_type": "execute_result"
    }
   ],
   "source": [
    "#some observations made by manually running some experiment on my laptop webcam\n",
    "#all the dimensions are in inch\n",
    "#actual width of the object\n",
    "WIDTH = 57\n",
    "# Perpendicular distance from the camera\n",
    "DISTANCE = 38\n",
    "#pixels covered by the object in the image\n",
    "PIXELS = 480\n",
    "# focus of the camera\n",
    "# this value will be used in future calculations\n",
    "FOCUS = PIXELS * DISTANCE / WIDTH\n",
    "FOCUS"
   ]
  },
  {
   "cell_type": "code",
   "execution_count": 4,
   "metadata": {
    "collapsed": true
   },
   "outputs": [],
   "source": [
    "import numpy as np"
   ]
  },
  {
   "cell_type": "code",
   "execution_count": 5,
   "metadata": {
    "collapsed": true
   },
   "outputs": [],
   "source": [
    "import copy"
   ]
  },
  {
   "cell_type": "code",
   "execution_count": 6,
   "metadata": {
    "collapsed": true
   },
   "outputs": [],
   "source": [
    "Face = (9,8)\n",
    "faces = []"
   ]
  },
  {
   "cell_type": "code",
   "execution_count": 7,
   "metadata": {
    "collapsed": true
   },
   "outputs": [],
   "source": [
    "# cap= cv2.VideoCapture('http://192.168.43.193:8080/video')\n",
    "cap=cv2.VideoCapture(0)"
   ]
  },
  {
   "cell_type": "code",
   "execution_count": 8,
   "metadata": {
    "collapsed": true
   },
   "outputs": [],
   "source": [
    "# fourcc = cv2.VideoWriter_fourcc(*'XVID')\n",
    "# out = cv2.VideoWriter('a.avi', fourcc, 5.0, (640, 480))"
   ]
  },
  {
   "cell_type": "code",
   "execution_count": 9,
   "metadata": {
    "collapsed": true
   },
   "outputs": [],
   "source": [
    "# face_model=cv2.CascadeClassifier('haarcascade_frontalface_default.xml')"
   ]
  },
  {
   "cell_type": "code",
   "execution_count": 10,
   "metadata": {
    "collapsed": true
   },
   "outputs": [],
   "source": [
    "# body_model=cv2.CascadeClassifier('haarcascade_fullbody.xml')"
   ]
  },
  {
   "cell_type": "code",
   "execution_count": 11,
   "metadata": {
    "collapsed": true
   },
   "outputs": [],
   "source": [
    "detector= MTCNN()"
   ]
  },
  {
   "cell_type": "code",
   "execution_count": 12,
   "metadata": {
    "collapsed": true
   },
   "outputs": [],
   "source": [
    "status,photo=cap.read()"
   ]
  },
  {
   "cell_type": "code",
   "execution_count": 13,
   "metadata": {},
   "outputs": [
    {
     "data": {
      "text/plain": [
       "(480, 640, 3)"
      ]
     },
     "execution_count": 13,
     "metadata": {},
     "output_type": "execute_result"
    }
   ],
   "source": [
    "photo.shape"
   ]
  },
  {
   "cell_type": "code",
   "execution_count": 18,
   "metadata": {},
   "outputs": [
    {
     "name": "stdout",
     "output_type": "stream",
     "text": [
      "[]\n",
      "[]\n",
      "[]\n",
      "[]\n",
      "[]\n",
      "[]\n",
      "[]\n",
      "[]\n",
      "[]\n",
      "[]\n",
      "[]\n",
      "[]\n",
      "[]\n",
      "[]\n",
      "[]\n",
      "[]\n",
      "[]\n",
      "[]\n",
      "[]\n",
      "[]\n",
      "[]\n",
      "[]\n",
      "[]\n",
      "[]\n",
      "[]\n",
      "[]\n",
      "[]\n",
      "[]\n",
      "[]\n",
      "[]\n",
      "[]\n",
      "[]\n",
      "[]\n",
      "[]\n",
      "[]\n",
      "[]\n",
      "[]\n",
      "[]\n",
      "[]\n",
      "[]\n",
      "[]\n",
      "[]\n",
      "[]\n",
      "[(-1.43045, 15.65217)]\n",
      "[[]]\n",
      "[(-1.46673, 15.31915)]\n",
      "[[]]\n",
      "[[]]\n",
      "[(-1.46496, 14.92228)]\n",
      "[[]]\n",
      "[[]]\n",
      "[(-1.36719, 14.69388)]\n",
      "[[]]\n",
      "[[]]\n",
      "[[]]\n",
      "[[]]\n",
      "[[]]\n",
      "[[]]\n",
      "[[]]\n",
      "[(-1.42101, 15.07853)]\n",
      "[[]]\n",
      "[(-1.39172, 14.92228)]\n",
      "[[]]\n",
      "[(-1.44326, 15.0)]\n",
      "[[]]\n",
      "[(-1.42475, 15.0)]\n",
      "[[]]\n",
      "[[]]\n",
      "[[]]\n",
      "[[]]\n",
      "[[]]\n",
      "[[]]\n",
      "[[]]\n",
      "[[]]\n",
      "[[]]\n",
      "[[]]\n",
      "[[]]\n",
      "[[]]\n",
      "[[]]\n",
      "[[]]\n",
      "[[]]\n",
      "[[]]\n",
      "[[]]\n",
      "[[]]\n",
      "[[]]\n",
      "[[]]\n",
      "[[]]\n",
      "[[]]\n",
      "[[]]\n",
      "[[]]\n",
      "[[]]\n",
      "[[]]\n",
      "[[]]\n",
      "[[]]\n",
      "[[]]\n",
      "[[]]\n",
      "[[]]\n",
      "[[]]\n",
      "[[]]\n",
      "[[]]\n",
      "[[]]\n",
      "[[]]\n",
      "[[]]\n",
      "[[]]\n",
      "[[]]\n",
      "[[]]\n",
      "[[]]\n",
      "[[]]\n",
      "[[]]\n",
      "[[]]\n",
      "[[]]\n",
      "[[]]\n",
      "[[]]\n",
      "[[]]\n",
      "[(-168.50825, 110.76923), (-261.71053, 120.0)]\n",
      "[[1], [0]]\n",
      "[(301.7252, 125.21739), (284.59722, 137.14286), (53.28947, 120.0), (162.46741, 125.21739), (-25.22579, 110.76923), (-78.5965, 106.66667)]\n",
      "[[1, 2, 3, 4, 5], [0, 2, 3, 4, 5], [0, 1, 3, 4, 5], [0, 1, 2, 4, 5], [0, 1, 2, 3, 5], [0, 1, 2, 3, 4]]\n",
      "[(291.4098, 125.21739), (329.21053, 120.0), (217.91264, 125.21739)]\n",
      "[[1, 2], [0, 2], [0, 1]]\n",
      "[(290.304, 115.2), (218.4428, 130.90909), (363.22105, 144.0), (6.54821, 115.2), (-55.65979, 115.2), (104.28882, 130.90909)]\n",
      "[[1, 2, 3, 4, 5], [0, 2, 3, 4, 5], [0, 1, 3, 4, 5], [0, 1, 2, 4, 5], [0, 1, 2, 3, 5], [0, 1, 2, 3, 4]]\n",
      "[(290.31753, 130.90909), (190.83474, 125.21739), (306.71053, 120.0), (-58.93389, 115.2), (1.09137, 115.2), (95.83297, 130.90909)]\n",
      "[[1, 2, 3, 4, 5], [0, 2, 3, 4, 5], [0, 1, 3, 4, 5], [0, 1, 2, 4, 5], [0, 1, 2, 3, 5], [0, 1, 2, 3, 4]]\n",
      "[(240.99173, 130.90909), (286.25211, 125.21739), (162.07046, 130.90909), (-33.15789, 120.0), (-89.49221, 115.2), (52.14441, 130.90909)]\n",
      "[[1, 2, 3, 4, 5], [0, 2, 3, 4, 5], [0, 1, 3, 4, 5], [0, 1, 2, 4, 5], [0, 1, 2, 3, 5], [0, 1, 2, 3, 4]]\n",
      "[(244.46653, 115.2), (269.12998, 137.14286), (-90.58358, 115.2), (180.96671, 137.14286), (-30.55832, 115.2), (53.55372, 130.90909)]\n",
      "[[1, 2, 3, 4, 5], [0, 2, 3, 4, 5], [0, 1, 3, 4, 5], [0, 1, 2, 4, 5], [0, 1, 2, 3, 5], [0, 1, 2, 3, 4]]\n",
      "[(253.66274, 137.14286), (-108.94737, 120.0), (255.78947, 120.0), (167.04619, 137.14286), (-43.81579, 120.0), (40.86994, 130.90909)]\n",
      "[[1, 2, 3, 4, 5], [0, 2, 3, 4, 5], [0, 1, 3, 4, 5], [0, 1, 2, 4, 5], [0, 1, 2, 3, 5], [0, 1, 2, 3, 4]]\n",
      "[(145.39206, 137.14286), (-106.95411, 115.2), (234.47368, 120.0), (207.16833, 130.90909)]\n",
      "[[1, 2, 3], [0, 2, 3], [0, 1, 3], [0, 1, 2]]\n",
      "[(211.90119, 137.14286), (-130.26316, 120.0), (239.83285, 125.21739), (-73.49716, 125.21739), (139.83158, 144.0), (10.23158, 144.0)]\n",
      "[[1, 2, 3, 4, 5], [0, 2, 3, 4, 5], [0, 1, 3, 4, 5], [0, 1, 2, 4, 5], [0, 1, 2, 3, 5], [0, 1, 2, 3, 4]]\n",
      "[(235.32632, 144.0), (239.83285, 125.21739), (-136.67893, 125.21739), (17.05263, 144.0), (-63.94737, 120.0), (143.24211, 144.0)]\n",
      "[[1, 2, 3, 4, 5], [0, 2, 3, 4, 5], [0, 1, 3, 4, 5], [0, 1, 2, 4, 5], [0, 1, 2, 3, 5], [0, 1, 2, 3, 4]]\n",
      "[(273.68421, 160.0), (300.12632, 144.0), (-138.11222, 130.90909), (166.31579, 160.0), (-83.55789, 144.0), (18.89488, 151.57895)]\n",
      "[[1, 2, 3, 4, 5], [0, 2, 3, 4, 5], [0, 1, 3, 4, 5], [0, 1, 2, 4, 5], [0, 1, 2, 3, 5], [0, 1, 2, 3, 4]]\n",
      "[(267.36842, 160.0), (162.10526, 160.0), (266.03653, 137.14286), (-151.57895, 137.14286), (16.84211, 160.0)]\n",
      "[[1, 2, 3, 4], [0, 2, 3, 4], [0, 1, 3, 4], [0, 1, 2, 4], [0, 1, 2, 3]]\n",
      "[(251.30195, 151.57895), (-139.20516, 137.14286), (176.84211, 160.0), (25.57895, 144.0), (275.31688, 137.14286), (-66.50913, 137.14286)]\n",
      "[[1, 2, 3, 4, 5], [0, 2, 3, 4, 5], [0, 1, 3, 4, 5], [0, 1, 2, 4, 5], [0, 1, 2, 3, 5], [0, 1, 2, 3, 4]]\n",
      "[[1, 2, 3, 4, 5], [0, 2, 3, 4, 5], [0, 1, 3, 4, 5], [0, 1, 2, 4, 5], [0, 1, 2, 3, 5], [0, 1, 2, 3, 4]]\n"
     ]
    },
    {
     "ename": "AssertionError",
     "evalue": "",
     "output_type": "error",
     "traceback": [
      "\u001b[1;31m---------------------------------------------------------------------------\u001b[0m",
      "\u001b[1;31mIndexError\u001b[0m                                Traceback (most recent call last)",
      "\u001b[1;32m<ipython-input-18-071fd465e6a7>\u001b[0m in \u001b[0;36m<module>\u001b[1;34m()\u001b[0m\n\u001b[0;32m     60\u001b[0m                     \u001b[1;32melse\u001b[0m\u001b[1;33m:\u001b[0m\u001b[1;33m\u001b[0m\u001b[0m\n\u001b[1;32m---> 61\u001b[1;33m                         \u001b[0mx1\u001b[0m\u001b[1;33m=\u001b[0m\u001b[0mface_cor\u001b[0m\u001b[1;33m[\u001b[0m\u001b[0mwar\u001b[0m\u001b[1;33m]\u001b[0m\u001b[1;33m[\u001b[0m\u001b[1;36m0\u001b[0m\u001b[1;33m]\u001b[0m\u001b[1;33m\u001b[0m\u001b[0m\n\u001b[0m\u001b[0;32m     62\u001b[0m                         \u001b[0my1\u001b[0m\u001b[1;33m=\u001b[0m\u001b[0mface_cor\u001b[0m\u001b[1;33m[\u001b[0m\u001b[0mwar\u001b[0m\u001b[1;33m]\u001b[0m\u001b[1;33m[\u001b[0m\u001b[1;36m1\u001b[0m\u001b[1;33m]\u001b[0m\u001b[1;33m\u001b[0m\u001b[0m\n",
      "\u001b[1;31mIndexError\u001b[0m: list index out of range",
      "\nDuring handling of the above exception, another exception occurred:\n",
      "\u001b[1;31mAssertionError\u001b[0m                            Traceback (most recent call last)",
      "\u001b[1;32m<ipython-input-18-071fd465e6a7>\u001b[0m in \u001b[0;36m<module>\u001b[1;34m()\u001b[0m\n\u001b[0;32m     92\u001b[0m \u001b[1;32mexcept\u001b[0m \u001b[0mException\u001b[0m \u001b[1;32mas\u001b[0m \u001b[0mexception\u001b[0m\u001b[1;33m:\u001b[0m\u001b[1;33m\u001b[0m\u001b[0m\n\u001b[0;32m     93\u001b[0m     \u001b[0mcv2\u001b[0m\u001b[1;33m.\u001b[0m\u001b[0mdestroyAllWindows\u001b[0m\u001b[1;33m(\u001b[0m\u001b[1;33m)\u001b[0m\u001b[1;33m\u001b[0m\u001b[0m\n\u001b[1;32m---> 94\u001b[1;33m     \u001b[1;32massert\u001b[0m \u001b[0mtype\u001b[0m\u001b[1;33m(\u001b[0m\u001b[0mexception\u001b[0m\u001b[1;33m)\u001b[0m\u001b[1;33m.\u001b[0m\u001b[0m__name__\u001b[0m \u001b[1;33m==\u001b[0m \u001b[1;34m'NameError'\u001b[0m\u001b[1;33m\u001b[0m\u001b[0m\n\u001b[0m\u001b[0;32m     95\u001b[0m     \u001b[1;32massert\u001b[0m \u001b[0mexception\u001b[0m\u001b[1;33m.\u001b[0m\u001b[0m__class__\u001b[0m\u001b[1;33m.\u001b[0m\u001b[0m__name__\u001b[0m \u001b[1;33m==\u001b[0m \u001b[1;34m'NameError'\u001b[0m\u001b[1;33m\u001b[0m\u001b[0m\n\u001b[0;32m     96\u001b[0m     \u001b[1;32massert\u001b[0m \u001b[0mexception\u001b[0m\u001b[1;33m.\u001b[0m\u001b[0m__class__\u001b[0m\u001b[1;33m.\u001b[0m\u001b[0m__qualname__\u001b[0m \u001b[1;33m==\u001b[0m \u001b[1;34m'NameError'\u001b[0m\u001b[1;33m\u001b[0m\u001b[0m\n",
      "\u001b[1;31mAssertionError\u001b[0m: "
     ]
    }
   ],
   "source": [
    "warning=[]\n",
    "try:\n",
    "    while True:\n",
    "        status,photo=cap.read()\n",
    "        photo=cv2.resize(photo,(640,480))\n",
    "        result=detector.detect_faces(photo)\n",
    "        face_cor=[]\n",
    "        for a in range(len(result)):\n",
    "            face_cor.append(result[a]['box'])\n",
    "    #     face_cor=face_model.detectMultiScale(photo)\n",
    "        faces=[]\n",
    "        if len(face_cor)==0:\n",
    "            pass\n",
    "        else:\n",
    "            for x in range(0,len(face_cor)):\n",
    "                x1=face_cor[x][0]\n",
    "                y1=face_cor[x][1]\n",
    "                x2=x1+face_cor[x][2]\n",
    "                y2=y1+face_cor[x][3]\n",
    "                photo=cv2.rectangle(photo,(x1,y1),(x2,y2),[0,255,0])\n",
    "            for face in face_cor:\n",
    "                y = round((Face[0]*FOCUS/(face[2])),5)\n",
    "                if face[0]   < 240:\n",
    "                    P = 480 - 2*(face[0] )\n",
    "                    P_ = y * P /38\n",
    "                    x = round((P_ * y / (FOCUS * 2)),5)\n",
    "                    x = -x\n",
    "                elif face[0]   > 240:\n",
    "                    P = 2*(face[0] ) - 480\n",
    "                    P_ = y * P /38\n",
    "                    x = round((P_ *y / (FOCUS * 2)),5)\n",
    "                else:\n",
    "                    x = 0\n",
    "                faces.append((x,y))\n",
    "            print(faces)\n",
    "            warning = []\n",
    "            for face in faces:\n",
    "                warning.append([])\n",
    "            if len(faces)>1:\n",
    "                y0, dy = 50, 20\n",
    "\n",
    "                for a in range(len(faces)):\n",
    "                    for b in range(a + 1,len(faces)):\n",
    "                        dist = (faces[a][0] - faces[b][0])**2 + ( faces[a][1] - faces[b][1])**2\n",
    "                        dist = round(math.sqrt(dist),5)\n",
    "                        if dist < 500:\n",
    "                            warning[a].append(b)\n",
    "                            warning[b].append(a)\n",
    "                            dist_str=\"distance is \"+str(dist)\n",
    "                            y1 = y0 + i*dy\n",
    "                            y1 = int(y1)\n",
    "                            cv2.putText(photo,dist_str,(100,y1),cv2.FONT_HERSHEY_SIMPLEX,1,[0,0,255],2)\n",
    "    #                             pass\n",
    "        print(warning)\n",
    "        if len(warning)>0:\n",
    "            for war in range(len(warning)):\n",
    "                if len(warning[war])>0:\n",
    "                    if war <0:\n",
    "                        pass\n",
    "                    else:\n",
    "                        x1=face_cor[war][0]\n",
    "                        y1=face_cor[war][1]\n",
    "                        x2=x1+face_cor[war][2]\n",
    "                        y2=y1+face_cor[war][3]\n",
    "                        photo=cv2.rectangle(photo,(x1,y1),(x2,y2),[0,0,255])\n",
    "        str1 = ''\n",
    "        n = 0\n",
    "        if len(warning)>0:\n",
    "            for war in range(len(warning)):\n",
    "    #             n = n+1\n",
    "                str1 += '\\n'\n",
    "                str1 += 'Person '\n",
    "                war3 = str(n)\n",
    "                str1 += war3\n",
    "                str1 += ' near to : '\n",
    "                for war2 in warning[war]:\n",
    "                    str1 += str(war2)\n",
    "                    str1 += ' , '\n",
    "                n = n+1\n",
    "        y0, dy = 50, 20\n",
    "        for i, line in enumerate(str1.split('\\n')):\n",
    "            y1 = y0 + i*dy\n",
    "            y1 = int(y1)\n",
    "            cv2.putText(photo, line , (0,y1) ,cv2.FONT_HERSHEY_SIMPLEX,0.5,[0,0,255],2)\n",
    "    #         cv2.putText(photo, str1 , (50,200) ,cv2.FONT_HERSHEY_SIMPLEX,1,[0,0,255],3)\n",
    "\n",
    "    #     out.write(photo)\n",
    "        cv2.imshow('hi',photo)\n",
    "        if cv2.waitKey(10)==13:\n",
    "            break\n",
    "    cv2.destroyAllWindows()\n",
    "except Exception as exception:\n",
    "    cv2.destroyAllWindows()\n",
    "    assert type(exception).__name__ == 'NameError'\n",
    "    assert exception.__class__.__name__ == 'NameError'\n",
    "    assert exception.__class__.__qualname__ == 'NameError'\n",
    "    \n",
    "    print(\"error\")"
   ]
  },
  {
   "cell_type": "code",
   "execution_count": 16,
   "metadata": {},
   "outputs": [
    {
     "ename": "NameError",
     "evalue": "name 'exception' is not defined",
     "output_type": "error",
     "traceback": [
      "\u001b[1;31m---------------------------------------------------------------------------\u001b[0m",
      "\u001b[1;31mNameError\u001b[0m                                 Traceback (most recent call last)",
      "\u001b[1;32m<ipython-input-16-f33904d37291>\u001b[0m in \u001b[0;36m<module>\u001b[1;34m()\u001b[0m\n\u001b[1;32m----> 1\u001b[1;33m \u001b[0mexception\u001b[0m\u001b[1;33m\u001b[0m\u001b[0m\n\u001b[0m",
      "\u001b[1;31mNameError\u001b[0m: name 'exception' is not defined"
     ]
    }
   ],
   "source": []
  },
  {
   "cell_type": "code",
   "execution_count": 35,
   "metadata": {},
   "outputs": [
    {
     "data": {
      "text/plain": [
       "[{'box': [254, 235, 153, 195],\n",
       "  'confidence': 0.9992293119430542,\n",
       "  'keypoints': {'left_eye': (297, 309),\n",
       "   'mouth_left': (302, 388),\n",
       "   'mouth_right': (364, 388),\n",
       "   'nose': (331, 350),\n",
       "   'right_eye': (369, 308)}}]"
      ]
     },
     "execution_count": 35,
     "metadata": {},
     "output_type": "execute_result"
    }
   ],
   "source": [
    "result"
   ]
  },
  {
   "cell_type": "code",
   "execution_count": 16,
   "metadata": {
    "collapsed": true
   },
   "outputs": [],
   "source": [
    "cap.release()\n",
    "# out.release()"
   ]
  },
  {
   "cell_type": "code",
   "execution_count": null,
   "metadata": {
    "collapsed": true
   },
   "outputs": [],
   "source": [
    "# import numpy as np\n",
    "# import cv2\n",
    "\n",
    "# cap = cv2.VideoCapture(0)\n",
    "\n",
    "# # Define the codec and create VideoWriter object\n",
    "# #fourcc = cv2.cv.CV_FOURCC(*'DIVX')\n",
    "# #out = cv2.VideoWriter('output.avi',fourcc, 20.0, (640,480))\n",
    "# out = cv2.VideoWriter('output.avi', -1, 20.0, (640,480))\n",
    "\n",
    "# while(cap.isOpened()):\n",
    "#     ret, frame = cap.read()\n",
    "#     if ret==True:\n",
    "#         frame = cv2.flip(frame,0)\n",
    "\n",
    "#         # write the flipped frame\n",
    "#         out.write(frame)\n",
    "\n",
    "#         cv2.imshow('frame',frame)\n",
    "#         if cv2.waitKey(1) & 0xFF == ord('q'):\n",
    "#             break\n",
    "#     else:\n",
    "#         break\n",
    "\n",
    "# # Release everything if job is finished\n",
    "# cv2.destroyAllWindows()"
   ]
  }
 ],
 "metadata": {
  "kernelspec": {
   "display_name": "Python 3",
   "language": "python",
   "name": "python3"
  },
  "language_info": {
   "codemirror_mode": {
    "name": "ipython",
    "version": 3
   },
   "file_extension": ".py",
   "mimetype": "text/x-python",
   "name": "python",
   "nbconvert_exporter": "python",
   "pygments_lexer": "ipython3",
   "version": "3.6.3"
  }
 },
 "nbformat": 4,
 "nbformat_minor": 2
}
