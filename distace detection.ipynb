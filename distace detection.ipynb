{
 "cells": [
  {
   "cell_type": "code",
   "execution_count": 22,
   "metadata": {},
   "outputs": [],
   "source": [
    "from mtcnn.mtcnn import MTCNN"
   ]
  },
  {
   "cell_type": "code",
   "execution_count": 23,
   "metadata": {
    "collapsed": true
   },
   "outputs": [],
   "source": [
    "import math\n",
    "import cv2"
   ]
  },
  {
   "cell_type": "code",
   "execution_count": 24,
   "metadata": {},
   "outputs": [
    {
     "data": {
      "text/plain": [
       "320.0"
      ]
     },
     "execution_count": 24,
     "metadata": {},
     "output_type": "execute_result"
    }
   ],
   "source": [
    "#some observations made by manually running some experiment on my laptop webcam\n",
    "#all the dimensions are in inch\n",
    "#actual width of the object\n",
    "WIDTH = 57\n",
    "# Perpendicular distance from the camera\n",
    "DISTANCE = 38\n",
    "#pixels covered by the object in the image\n",
    "PIXELS = 480\n",
    "# focus of the camera\n",
    "# this value will be used in future calculations\n",
    "FOCUS = PIXELS * DISTANCE / WIDTH\n",
    "FOCUS"
   ]
  },
  {
   "cell_type": "code",
   "execution_count": 25,
   "metadata": {
    "collapsed": true
   },
   "outputs": [],
   "source": [
    "import numpy as np"
   ]
  },
  {
   "cell_type": "code",
   "execution_count": 26,
   "metadata": {
    "collapsed": true
   },
   "outputs": [],
   "source": [
    "import copy"
   ]
  },
  {
   "cell_type": "code",
   "execution_count": 27,
   "metadata": {
    "collapsed": true
   },
   "outputs": [],
   "source": [
    "Face = (9,8)\n",
    "faces = []"
   ]
  },
  {
   "cell_type": "code",
   "execution_count": 28,
   "metadata": {
    "collapsed": true
   },
   "outputs": [],
   "source": [
    "# cap= cv2.VideoCapture('http://192.168.43.74:8080/video')\n",
    "cap=cv2.VideoCapture(0)"
   ]
  },
  {
   "cell_type": "code",
   "execution_count": 29,
   "metadata": {
    "collapsed": true
   },
   "outputs": [],
   "source": [
    "# fourcc = cv2.VideoWriter_fourcc(*'XVID')\n",
    "# out = cv2.VideoWriter('a.avi', fourcc, 5.0, (640, 480))"
   ]
  },
  {
   "cell_type": "code",
   "execution_count": 21,
   "metadata": {
    "collapsed": true
   },
   "outputs": [],
   "source": [
    "# face_model=cv2.CascadeClassifier('haarcascade_frontalface_default.xml')"
   ]
  },
  {
   "cell_type": "code",
   "execution_count": 22,
   "metadata": {
    "collapsed": true
   },
   "outputs": [],
   "source": [
    "# body_model=cv2.CascadeClassifier('haarcascade_fullbody.xml')"
   ]
  },
  {
   "cell_type": "code",
   "execution_count": 30,
   "metadata": {
    "collapsed": true
   },
   "outputs": [],
   "source": [
    "detector= MTCNN()"
   ]
  },
  {
   "cell_type": "code",
   "execution_count": 31,
   "metadata": {
    "collapsed": true
   },
   "outputs": [],
   "source": [
    "status,photo=cap.read()"
   ]
  },
  {
   "cell_type": "code",
   "execution_count": 32,
   "metadata": {},
   "outputs": [
    {
     "data": {
      "text/plain": [
       "(480, 640, 3)"
      ]
     },
     "execution_count": 32,
     "metadata": {},
     "output_type": "execute_result"
    }
   ],
   "source": [
    "photo.shape"
   ]
  },
  {
   "cell_type": "code",
   "execution_count": 33,
   "metadata": {},
   "outputs": [
    {
     "name": "stdout",
     "output_type": "stream",
     "text": [
      "[(0.27603, 15.48387)]\n",
      "[[]]\n",
      "[(0.10232, 14.4)]\n",
      "[[]]\n",
      "[(0.17576, 14.61929)]\n",
      "[[]]\n",
      "[(0.08526, 14.4)]\n",
      "[[]]\n",
      "[[]]\n",
      "[(0.05609, 15.07853)]\n",
      "[[]]\n",
      "[(0.04404, 16.36364)]\n",
      "[[]]\n",
      "[(0.08197, 18.22785)]\n",
      "[[]]\n",
      "[(-0.52578, 18.34395)]\n",
      "[[]]\n",
      "[(-0.53807, 17.24551)]\n",
      "[[]]\n",
      "[(-0.2859, 17.77778)]\n",
      "[[]]\n",
      "[(0.59207, 22.67717)]\n",
      "[[]]\n",
      "[(1.63131, 25.71429)]\n",
      "[[]]\n",
      "[(2.10354, 27.42857)]\n",
      "[[]]\n",
      "[(1.41957, 23.22581)]\n",
      "[[]]\n",
      "[[]]\n",
      "[[]]\n",
      "[(-0.4193, 23.80165)]\n",
      "[[]]\n",
      "[[]]\n",
      "[(-0.57659, 31.64835)]\n",
      "[[]]\n",
      "[(-0.57865, 27.96117)]\n",
      "[[]]\n",
      "[(-0.16313, 25.71429)]\n",
      "[[]]\n",
      "[[]]\n",
      "[[]]\n",
      "[[]]\n",
      "[[]]\n",
      "[[]]\n",
      "[(2.06633, 25.71429)]\n",
      "[[]]\n",
      "[(2.66036, 27.42857)]\n",
      "[[]]\n",
      "[(2.43589, 25.94595)]\n",
      "[[]]\n",
      "[(2.98773, 26.18182)]\n",
      "[[]]\n",
      "[(4.5355, 26.42202)]\n",
      "[[]]\n",
      "[(5.38333, 25.71429)]\n",
      "[[]]\n",
      "[(7.86537, 26.42202)]\n",
      "[[]]\n",
      "[(6.47583, 23.80165)]\n",
      "[[]]\n",
      "[[]]\n",
      "[[]]\n",
      "[[]]\n",
      "[[]]\n",
      "[[]]\n",
      "[[]]\n",
      "[[]]\n",
      "[[]]\n",
      "[(5.62037, 22.5)]\n",
      "[[]]\n",
      "[(5.41221, 22.5)]\n",
      "[[]]\n",
      "[(5.11717, 22.67717)]\n",
      "[[]]\n",
      "[(4.56082, 22.15385)]\n",
      "[[]]\n",
      "[(3.89524, 21.98473)]\n",
      "[[]]\n",
      "[(2.80702, 21.33333)]\n",
      "[[]]\n",
      "[(1.45965, 21.33333)]\n",
      "[[]]\n",
      "[(-0.07061, 20.71942)]\n",
      "[[]]\n",
      "[(-0.94433, 18.11321)]\n",
      "[[]]\n",
      "[(-1.80336, 18.22785)]\n",
      "[[]]\n",
      "[(-2.43198, 19.72603)]\n",
      "[[]]\n",
      "[(-2.5, 20.0)]\n",
      "[[]]\n",
      "[(-2.89608, 19.45946)]\n",
      "[[]]\n",
      "[(-2.99875, 19.59184)]\n",
      "[[]]\n",
      "[(-3.18851, 18.94737)]\n",
      "[[]]\n",
      "[(-3.53624, 19.86207)]\n",
      "[[]]\n",
      "[(-4.20415, 21.17647)]\n",
      "[[]]\n",
      "[(-4.14135, 20.57143)]\n",
      "[[]]\n",
      "[(-4.25437, 20.42553)]\n",
      "[[]]\n",
      "[(-4.09317, 20.28169)]\n",
      "[[]]\n",
      "[(-4.10284, 20.13986)]\n",
      "[[]]\n",
      "[(-4.4364, 20.13986)]\n",
      "[[]]\n",
      "[(-5.3234, 23.22581)]\n",
      "[[]]\n",
      "[(-4.31641, 18.46154)]\n",
      "[[]]\n",
      "[(-4.39354, 19.32886)]\n",
      "[[]]\n",
      "[(-4.56082, 22.15385)]\n",
      "[[]]\n",
      "[(-4.21662, 21.49254)]\n",
      "[[]]\n",
      "[(-3.57726, 19.2)]\n",
      "[[]]\n",
      "[(-2.96722, 17.56098)]\n",
      "[[]]\n",
      "[(-2.74648, 17.04142)]\n",
      "[[]]\n",
      "[(-2.56837, 16.55172)]\n",
      "[[]]\n",
      "[(-2.45572, 16.55172)]\n",
      "[[]]\n",
      "[(-2.51343, 17.14286)]\n",
      "[[]]\n",
      "[(-2.64432, 17.66871)]\n",
      "[[]]\n",
      "[(-2.66999, 17.66871)]\n",
      "[[]]\n",
      "[(-2.57436, 17.3494)]\n",
      "[[]]\n",
      "[(-2.32964, 16.27119)]\n",
      "[[]]\n",
      "[(-2.13251, 15.56757)]\n",
      "[[]]\n",
      "[(-2.12103, 15.82418)]\n",
      "[[]]\n",
      "[(-1.8114, 15.9116)]\n",
      "[[]]\n",
      "[(-1.64789, 17.04142)]\n",
      "[[]]\n",
      "[(-1.07061, 19.86207)]\n",
      "[[]]\n",
      "[[]]\n",
      "[[]]\n",
      "[[]]\n",
      "[[]]\n",
      "[[]]\n",
      "[[]]\n",
      "[[]]\n",
      "[[]]\n",
      "[[]]\n",
      "[[]]\n",
      "[(2.77484, 27.69231)]\n",
      "[[]]\n",
      "[(2.88472, 28.23529)]\n",
      "[[]]\n",
      "[(2.89327, 27.96117)]\n",
      "[[]]\n",
      "[(2.84597, 27.42857)]\n",
      "[[]]\n",
      "[(2.96403, 27.69231)]\n",
      "[[]]\n",
      "[(3.15045, 27.96117)]\n",
      "[[]]\n",
      "[(3.27646, 28.51485)]\n",
      "[[]]\n",
      "[(3.41053, 28.8)]\n",
      "[[]]\n",
      "[(3.41053, 28.8)]\n",
      "[[]]\n",
      "[(3.69724, 29.69072)]\n",
      "[[]]\n",
      "[(3.06947, 28.8)]\n",
      "[[]]\n",
      "[(2.48038, 26.18182)]\n",
      "[[]]\n",
      "[(3.70066, 30.0)]\n",
      "[[]]\n",
      "[[]]\n",
      "[(2.91394, 27.16981)]\n",
      "[[]]\n",
      "[[]]\n",
      "[(2.71177, 27.69231)]\n",
      "[[]]\n",
      "[(2.95028, 28.23529)]\n",
      "[[]]\n",
      "[[]]\n",
      "[[]]\n",
      "[[]]\n",
      "[[]]\n",
      "[[]]\n",
      "[(1.27368, 24.40678)]\n",
      "[[]]\n",
      "[[]]\n",
      "[[]]\n",
      "[[]]\n",
      "[[]]\n",
      "[(2.22728, 27.42857)]\n",
      "[[]]\n",
      "[(1.92308, 25.48673)]\n",
      "[[]]\n",
      "[(1.22643, 22.67717)]\n",
      "[[]]\n",
      "[(0.6089, 20.28169)]\n",
      "[[]]\n",
      "[(0.40794, 18.82353)]\n",
      "[[]]\n"
     ]
    }
   ],
   "source": [
    "while True:\n",
    "    status,photo=cap.read()\n",
    "    photo=cv2.resize(photo,(640,480))\n",
    "    result=detector.detect_faces(photo)\n",
    "    face_cor=[]\n",
    "    for a in range(len(result)):\n",
    "        face_cor.append(result[a]['box'])\n",
    "#     face_cor=face_model.detectMultiScale(photo)\n",
    "    faces=[]\n",
    "    if len(face_cor)==0:\n",
    "        pass\n",
    "    else:\n",
    "        for x in range(0,len(face_cor)):\n",
    "            x1=face_cor[x][0]\n",
    "            y1=face_cor[x][1]\n",
    "            x2=x1+face_cor[x][2]\n",
    "            y2=y1+face_cor[x][3]\n",
    "            photo=cv2.rectangle(photo,(x1,y1),(x2,y2),[0,255,0])\n",
    "        for face in face_cor:\n",
    "            y = round((Face[0]*FOCUS/(face[2])),5)\n",
    "            if face[0]   < 240:\n",
    "                P = 480 - 2*(face[0] )\n",
    "                P_ = y * P /38\n",
    "                x = round((P_ * y / (FOCUS * 2)),5)\n",
    "                x = -x\n",
    "            elif face[0]   > 240:\n",
    "                P = 2*(face[0] ) - 480\n",
    "                P_ = y * P /38\n",
    "                x = round((P_ *y / (FOCUS * 2)),5)\n",
    "            else:\n",
    "                x = 0\n",
    "            faces.append((x,y))\n",
    "        print(faces)\n",
    "        warning = []\n",
    "        for face in faces:\n",
    "            warning.append([])\n",
    "        if len(faces)>1:\n",
    "            for a in range(len(faces)):\n",
    "                for b in range(a + 1,len(faces)):\n",
    "                    dist = (faces[a][0] - faces[b][0])**2 + ( faces[a][1] - faces[b][1])**2\n",
    "                    dist = round(math.sqrt(dist),5)\n",
    "                    if dist < 500:\n",
    "                        warning[a].append(b)\n",
    "                        warning[b].append(a)\n",
    "                        cv2.putText(photo,\"distance is \"+str(dist),(50,50),cv2.FONT_HERSHEY_SIMPLEX,1,[0,0,255],2)\n",
    "#                             pass\n",
    "    print(warning)\n",
    "    for war in range(len(warning)):\n",
    "        if len(warning[war])>0:\n",
    "            x1=face_cor[war][0]\n",
    "            y1=face_cor[war][1]\n",
    "            x2=x1+face_cor[war][2]\n",
    "            y2=y1+face_cor[war][3]\n",
    "            photo=cv2.rectangle(photo,(x1,y1),(x2,y2),[0,0,255])\n",
    "    str1 = ''\n",
    "    n = 0\n",
    "    if len(warning)>0:\n",
    "        for war in range(len(warning)):\n",
    "#             n = n+1\n",
    "            str1 += '\\n'\n",
    "            str1 += 'Person '\n",
    "            war3 = str(n)\n",
    "            str1 += war3\n",
    "            str1 += ' near to : '\n",
    "            for war2 in warning[war]:\n",
    "                str1 += str(war2)\n",
    "                str1 += ' , '\n",
    "            n = n+1\n",
    "    y0, dy = 50, 20\n",
    "    for i, line in enumerate(str1.split('\\n')):\n",
    "        y1 = y0 + i*dy\n",
    "        y1 = int(y1)\n",
    "        cv2.putText(photo, line , (0,y1) ,cv2.FONT_HERSHEY_SIMPLEX,0.5,[0,0,255],2)\n",
    "#         cv2.putText(photo, str1 , (50,200) ,cv2.FONT_HERSHEY_SIMPLEX,1,[0,0,255],3)\n",
    "    \n",
    "#     out.write(photo)\n",
    "    cv2.imshow('hi',photo)\n",
    "    if cv2.waitKey(10)==13:\n",
    "        break\n",
    "cv2.destroyAllWindows()"
   ]
  },
  {
   "cell_type": "code",
   "execution_count": null,
   "metadata": {
    "collapsed": true
   },
   "outputs": [],
   "source": [
    "len(face_cor)"
   ]
  },
  {
   "cell_type": "code",
   "execution_count": 35,
   "metadata": {},
   "outputs": [
    {
     "data": {
      "text/plain": [
       "[{'box': [254, 235, 153, 195],\n",
       "  'confidence': 0.9992293119430542,\n",
       "  'keypoints': {'left_eye': (297, 309),\n",
       "   'mouth_left': (302, 388),\n",
       "   'mouth_right': (364, 388),\n",
       "   'nose': (331, 350),\n",
       "   'right_eye': (369, 308)}}]"
      ]
     },
     "execution_count": 35,
     "metadata": {},
     "output_type": "execute_result"
    }
   ],
   "source": [
    "result"
   ]
  },
  {
   "cell_type": "code",
   "execution_count": 34,
   "metadata": {
    "collapsed": true
   },
   "outputs": [],
   "source": [
    "cap.release()\n",
    "# out.release()"
   ]
  },
  {
   "cell_type": "code",
   "execution_count": null,
   "metadata": {
    "collapsed": true
   },
   "outputs": [],
   "source": [
    "# import numpy as np\n",
    "# import cv2\n",
    "\n",
    "# cap = cv2.VideoCapture(0)\n",
    "\n",
    "# # Define the codec and create VideoWriter object\n",
    "# #fourcc = cv2.cv.CV_FOURCC(*'DIVX')\n",
    "# #out = cv2.VideoWriter('output.avi',fourcc, 20.0, (640,480))\n",
    "# out = cv2.VideoWriter('output.avi', -1, 20.0, (640,480))\n",
    "\n",
    "# while(cap.isOpened()):\n",
    "#     ret, frame = cap.read()\n",
    "#     if ret==True:\n",
    "#         frame = cv2.flip(frame,0)\n",
    "\n",
    "#         # write the flipped frame\n",
    "#         out.write(frame)\n",
    "\n",
    "#         cv2.imshow('frame',frame)\n",
    "#         if cv2.waitKey(1) & 0xFF == ord('q'):\n",
    "#             break\n",
    "#     else:\n",
    "#         break\n",
    "\n",
    "# # Release everything if job is finished\n",
    "# cv2.destroyAllWindows()"
   ]
  }
 ],
 "metadata": {
  "kernelspec": {
   "display_name": "Python 3",
   "language": "python",
   "name": "python3"
  },
  "language_info": {
   "codemirror_mode": {
    "name": "ipython",
    "version": 3
   },
   "file_extension": ".py",
   "mimetype": "text/x-python",
   "name": "python",
   "nbconvert_exporter": "python",
   "pygments_lexer": "ipython3",
   "version": "3.6.3"
  }
 },
 "nbformat": 4,
 "nbformat_minor": 2
}
