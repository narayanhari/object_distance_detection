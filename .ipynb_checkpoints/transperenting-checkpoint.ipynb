{
 "cells": [
  {
   "cell_type": "code",
   "execution_count": 1,
   "metadata": {
    "collapsed": true
   },
   "outputs": [],
   "source": [
    "import math\n",
    "import cv2\n"
   ]
  },
  {
   "cell_type": "code",
   "execution_count": 2,
   "metadata": {},
   "outputs": [
    {
     "data": {
      "text/plain": [
       "320.0"
      ]
     },
     "execution_count": 2,
     "metadata": {},
     "output_type": "execute_result"
    }
   ],
   "source": [
    "#some observations made by manually running some experiment on my laptop webcam\n",
    "#all the dimensions are in inch\n",
    "#actual width of the object\n",
    "WIDTH = 57\n",
    "# Perpendicular distance from the camera\n",
    "DISTANCE = 38\n",
    "#pixels covered by the object in the image\n",
    "PIXELS = 480\n",
    "# focus of the camera\n",
    "# this value will be used in future calculations\n",
    "FOCUS = PIXELS * DISTANCE / WIDTH\n",
    "FOCUS"
   ]
  },
  {
   "cell_type": "code",
   "execution_count": 3,
   "metadata": {
    "collapsed": true
   },
   "outputs": [],
   "source": [
    "import numpy as np"
   ]
  },
  {
   "cell_type": "code",
   "execution_count": 4,
   "metadata": {
    "collapsed": true
   },
   "outputs": [],
   "source": [
    "import copy"
   ]
  },
  {
   "cell_type": "code",
   "execution_count": 5,
   "metadata": {
    "collapsed": true
   },
   "outputs": [],
   "source": [
    "Face = (9,8)\n",
    "faces = []"
   ]
  },
  {
   "cell_type": "code",
   "execution_count": 6,
   "metadata": {
    "collapsed": true
   },
   "outputs": [],
   "source": [
    "# cap= cv2.VideoCapture('http://192.168.43.74:8080/video')\n",
    "cap=cv2.VideoCapture(0)"
   ]
  },
  {
   "cell_type": "code",
   "execution_count": 7,
   "metadata": {
    "collapsed": true
   },
   "outputs": [],
   "source": [
    "fourcc = cv2.VideoWriter_fourcc(*'XVID')\n",
    "out = cv2.VideoWriter('a.avi', fourcc, 5.0, (640, 480))"
   ]
  },
  {
   "cell_type": "code",
   "execution_count": 8,
   "metadata": {
    "collapsed": true
   },
   "outputs": [],
   "source": [
    "face_model=cv2.CascadeClassifier('haarcascade_frontalface_default.xml')"
   ]
  },
  {
   "cell_type": "code",
   "execution_count": 9,
   "metadata": {
    "collapsed": true
   },
   "outputs": [],
   "source": [
    "body_model=cv2.CascadeClassifier('haarcascade_fullbody.xml')"
   ]
  },
  {
   "cell_type": "code",
   "execution_count": 10,
   "metadata": {
    "collapsed": true
   },
   "outputs": [],
   "source": [
    "status,photo=cap.read()"
   ]
  },
  {
   "cell_type": "code",
   "execution_count": 11,
   "metadata": {},
   "outputs": [
    {
     "data": {
      "text/plain": [
       "(480, 640, 3)"
      ]
     },
     "execution_count": 11,
     "metadata": {},
     "output_type": "execute_result"
    }
   ],
   "source": [
    "photo.shape"
   ]
  },
  {
   "cell_type": "code",
   "execution_count": 13,
   "metadata": {},
   "outputs": [
    {
     "name": "stdout",
     "output_type": "stream",
     "text": [
      "[(0.11173, 13.03167)]\n",
      "[[]]\n",
      "[(0.16167999999999999, 12.800000000000001)]\n",
      "[[]]\n",
      "[(0.098809999999999995, 12.255319999999999)]\n",
      "[[]]\n",
      "[(0.13236999999999999, 12.68722)]\n",
      "[[]]\n",
      "[(0.11308, 12.360519999999999)]\n",
      "[[]]\n",
      "[(0.11505, 12.46753)]\n",
      "[[]]\n",
      "[(0.11809, 12.63158)]\n",
      "[[]]\n",
      "[(0.14821000000000001, 12.800000000000001)]\n",
      "[[]]\n",
      "[(0.11405999999999999, 12.413790000000001)]\n",
      "[[]]\n",
      "[(0.13474, 12.800000000000001)]\n",
      "[[]]\n",
      "[(0.047370000000000002, 12.0)]\n",
      "[[]]\n",
      "[(0.13355, 12.743359999999999)]\n",
      "[[]]\n",
      "[(0.039359999999999999, 12.63158)]\n",
      "[[]]\n",
      "[(-0.05586, 13.03167)]\n",
      "[[]]\n",
      "[(-0.15884999999999999, 12.68722)]\n",
      "[[]]\n",
      "[(-0.20630999999999999, 12.521739999999999)]\n",
      "[[]]\n",
      "[(-0.38063999999999998, 12.857139999999999), (47.650039999999997, 49.655169999999998)]\n",
      "[[1], [0]]\n",
      "[(-0.79725999999999997, 12.307689999999999)]\n",
      "[[]]\n",
      "[(-1.3827499999999999, 12.307689999999999)]\n",
      "[[]]\n",
      "[(-1.94703, 12.521739999999999)]\n",
      "[[]]\n",
      "[(-2.1716799999999998, 11.851850000000001)]\n",
      "[[]]\n",
      "[(-2.2897500000000002, 13.150679999999999)]\n",
      "[[]]\n",
      "[(-2.4000900000000001, 14.187189999999999)]\n",
      "[[]]\n",
      "[(-2.5615600000000001, 15.078530000000001), (-26.991599999999998, 55.384619999999998)]\n",
      "[[1], [0]]\n",
      "[(-2.5263200000000001, 16.0)]\n",
      "[[]]\n",
      "[(-3.04149, 16.55172)]\n",
      "[[]]\n",
      "[(-2.6274799999999998, 15.7377)]\n",
      "[[]]\n",
      "[(-2.2341600000000001, 15.238099999999999)]\n",
      "[[]]\n",
      "[(-2.1729099999999999, 15.15789)]\n",
      "[[]]\n",
      "[(-2.00501, 15.238099999999999)]\n",
      "[[]]\n",
      "[(-1.9139900000000001, 15.65217)]\n",
      "[[]]\n",
      "[(-1.80952, 16.089390000000002)]\n",
      "[[]]\n",
      "[(-1.6520699999999999, 15.65217)]\n",
      "[[]]\n",
      "[(-1.6392199999999999, 16.089390000000002)]\n",
      "[[]]\n",
      "[(-1.55789, 16.0)]\n",
      "[[]]\n",
      "[(-1.37416, 15.9116)]\n",
      "[[]]\n",
      "[(-1.2701800000000001, 16.179780000000001)]\n",
      "[[]]\n",
      "[(-1.2631600000000001, 16.0)]\n",
      "[[]]\n",
      "[(-1.1708700000000001, 16.089390000000002)]\n",
      "[[]]\n",
      "[(-1.1202399999999999, 15.7377)]\n",
      "[[]]\n",
      "[(-1.21112, 16.36364)]\n",
      "[[]]\n",
      "[(-1.2192499999999999, 16.271190000000001)]\n",
      "[[]]\n",
      "[(-1.3142199999999999, 16.74419)]\n",
      "[[]]\n",
      "[(-1.4152, 16.271190000000001)]\n",
      "[[]]\n",
      "[(-1.4053899999999999, 15.7377)]\n",
      "[[]]\n",
      "[(-1.5276000000000001, 15.7377)]\n",
      "[[]]\n",
      "[(-1.96007, 16.55172)]\n",
      "[[]]\n",
      "[(-2.7198799999999999, 15.65217)]\n",
      "[[]]\n",
      "[(-3.1546099999999999, 15.48387)]\n",
      "[[]]\n",
      "[(-4.0377400000000003, 15.401070000000001)]\n",
      "[[]]\n",
      "[(-3.7334900000000002, 14.845359999999999)]\n",
      "[[]]\n",
      "[(-2.5969699999999998, 15.238099999999999)]\n",
      "[[]]\n",
      "[(-1.8667499999999999, 14.845359999999999)]\n",
      "[[]]\n",
      "[(-0.97053, 13.271890000000001)]\n",
      "[[]]\n",
      "[(-0.86912, 11.566269999999999)]\n",
      "[[]]\n",
      "[(-0.95377999999999996, 11.6129)]\n",
      "[[]]\n",
      "[(-1.20886, 11.6129)]\n",
      "[[]]\n",
      "[(-1.7680199999999999, 11.52)]\n",
      "[[]]\n",
      "[(-1.9721, 11.294119999999999)]\n",
      "[[]]\n",
      "[(-2.1145299999999998, 11.33858)]\n",
      "[[]]\n",
      "[(-2.4544999999999999, 11.95021)]\n",
      "[[]]\n",
      "[(-2.9764699999999999, 12.9148)]\n",
      "[[]]\n",
      "[(-2.9532099999999999, 13.33333)]\n",
      "[[]]\n",
      "[(-2.8597299999999999, 13.457940000000001)]\n",
      "[[]]\n",
      "[(-2.6603699999999999, 13.71429), (10.22179, 29.690719999999999)]\n",
      "[[1], [0]]\n",
      "[(3.2948, 31.648350000000001), (-3.20139, 14.545450000000001)]\n",
      "[[1], [0]]\n",
      "[(-3.9062899999999998, 15.56757)]\n",
      "[[]]\n",
      "[(-3.80525, 15.48387)]\n",
      "[[]]\n",
      "[(-4.4631600000000002, 16.0)]\n",
      "[[]]\n",
      "[(-3.96122, 16.179780000000001)]\n",
      "[[]]\n",
      "[(-3.4562300000000001, 15.9116)]\n",
      "[[]]\n",
      "[(-3.6421100000000002, 16.0)]\n",
      "[[]]\n",
      "[(-4.1086900000000002, 16.089390000000002)]\n",
      "[[]]\n",
      "[(-4.29474, 16.0)]\n",
      "[[]]\n",
      "[(-4.8004600000000002, 16.36364)]\n",
      "[[]]\n",
      "[(-5.2952399999999997, 16.842110000000002)]\n",
      "[[]]\n",
      "[(-5.3496600000000001, 17.041419999999999)]\n",
      "[[]]\n",
      "[(-5.0391899999999996, 17.041419999999999)]\n",
      "[[]]\n",
      "[(-5.0630699999999997, 17.041419999999999)]\n",
      "[[]]\n",
      "[(-5.1924999999999999, 16.941179999999999)]\n",
      "[[]]\n",
      "[(-5.6808300000000003, 17.560980000000001)]\n",
      "[[]]\n",
      "[(-5.4779499999999999, 17.560980000000001)]\n",
      "[[]]\n",
      "[(-4.9197699999999998, 17.041419999999999)]\n",
      "[[]]\n",
      "[(-5.5370200000000001, 17.454550000000001)]\n",
      "[[]]\n",
      "[(-5.3168699999999998, 17.142859999999999)]\n",
      "[[]]\n",
      "[(-7.2454700000000001, 19.199999999999999)]\n",
      "[[]]\n",
      "[[]]\n",
      "[(-7.5126600000000003, 19.591840000000001)]\n",
      "[[]]\n",
      "[[]]\n",
      "[[]]\n",
      "[(-3.85256, 24.827590000000001)]\n",
      "[[]]\n",
      "[[]]\n",
      "[(1.45726, 12.151899999999999)]\n",
      "[[]]\n",
      "[(-8.2131100000000004, 20.571429999999999)]\n",
      "[[]]\n",
      "[(-7.8289499999999999, 20.0)]\n",
      "[[]]\n",
      "[(77.625209999999996, 56.470590000000001)]\n",
      "[[]]\n",
      "[[]]\n",
      "[[]]\n",
      "[(74.853790000000004, 53.333329999999997)]\n",
      "[[]]\n",
      "[[]]\n",
      "[(39.562109999999997, 57.600000000000001)]\n",
      "[[]]\n",
      "[[]]\n",
      "[[]]\n",
      "[[]]\n",
      "[[]]\n",
      "[[]]\n",
      "[[]]\n",
      "[[]]\n",
      "[[]]\n",
      "[[]]\n",
      "[[]]\n",
      "[(3.3823400000000001, 52.363639999999997)]\n",
      "[[]]\n",
      "[(4.5406399999999998, 55.384619999999998)]\n",
      "[[]]\n",
      "[(5.3977500000000003, 58.775509999999997)]\n",
      "[[]]\n",
      "[(3.97661, 53.333329999999997)]\n",
      "[[]]\n",
      "[[]]\n",
      "[[]]\n",
      "[(5.1136600000000003, 58.775509999999997)]\n",
      "[[]]\n",
      "[(-19.21031, 41.142859999999999), (5.1840000000000002, 57.600000000000001)]\n",
      "[[1], [0]]\n",
      "[[1], [0]]\n"
     ]
    },
    {
     "ename": "IndexError",
     "evalue": "tuple index out of range",
     "output_type": "error",
     "traceback": [
      "\u001b[1;31m---------------------------------------------------------------------------\u001b[0m",
      "\u001b[1;31mIndexError\u001b[0m                                Traceback (most recent call last)",
      "\u001b[1;32m<ipython-input-13-e64857818f96>\u001b[0m in \u001b[0;36m<module>\u001b[1;34m()\u001b[0m\n\u001b[0;32m     44\u001b[0m     \u001b[1;32mfor\u001b[0m \u001b[0mwar\u001b[0m \u001b[1;32min\u001b[0m \u001b[0mrange\u001b[0m\u001b[1;33m(\u001b[0m\u001b[0mlen\u001b[0m\u001b[1;33m(\u001b[0m\u001b[0mwarning\u001b[0m\u001b[1;33m)\u001b[0m\u001b[1;33m)\u001b[0m\u001b[1;33m:\u001b[0m\u001b[1;33m\u001b[0m\u001b[0m\n\u001b[0;32m     45\u001b[0m         \u001b[1;32mif\u001b[0m \u001b[0mlen\u001b[0m\u001b[1;33m(\u001b[0m\u001b[0mwarning\u001b[0m\u001b[1;33m[\u001b[0m\u001b[0mwar\u001b[0m\u001b[1;33m]\u001b[0m\u001b[1;33m)\u001b[0m\u001b[1;33m>\u001b[0m\u001b[1;36m0\u001b[0m\u001b[1;33m:\u001b[0m\u001b[1;33m\u001b[0m\u001b[0m\n\u001b[1;32m---> 46\u001b[1;33m             \u001b[0mx1\u001b[0m\u001b[1;33m=\u001b[0m\u001b[0mface_cor\u001b[0m\u001b[1;33m[\u001b[0m\u001b[0mwar\u001b[0m\u001b[1;33m]\u001b[0m\u001b[1;33m[\u001b[0m\u001b[1;36m0\u001b[0m\u001b[1;33m]\u001b[0m\u001b[1;33m\u001b[0m\u001b[0m\n\u001b[0m\u001b[0;32m     47\u001b[0m             \u001b[0my1\u001b[0m\u001b[1;33m=\u001b[0m\u001b[0mface_cor\u001b[0m\u001b[1;33m[\u001b[0m\u001b[0mwar\u001b[0m\u001b[1;33m]\u001b[0m\u001b[1;33m[\u001b[0m\u001b[1;36m1\u001b[0m\u001b[1;33m]\u001b[0m\u001b[1;33m\u001b[0m\u001b[0m\n\u001b[0;32m     48\u001b[0m             \u001b[0mx2\u001b[0m\u001b[1;33m=\u001b[0m\u001b[0mx1\u001b[0m\u001b[1;33m+\u001b[0m\u001b[0mface_cor\u001b[0m\u001b[1;33m[\u001b[0m\u001b[0mwar\u001b[0m\u001b[1;33m]\u001b[0m\u001b[1;33m[\u001b[0m\u001b[1;36m2\u001b[0m\u001b[1;33m]\u001b[0m\u001b[1;33m\u001b[0m\u001b[0m\n",
      "\u001b[1;31mIndexError\u001b[0m: tuple index out of range"
     ]
    }
   ],
   "source": [
    "while True:\n",
    "    status,photo=cap.read()\n",
    "    photo=cv2.resize(photo,(640,480))\n",
    "    face_cor=face_model.detectMultiScale(photo)\n",
    "    faces=[]\n",
    "    if len(face_cor)==0:\n",
    "        pass\n",
    "    else:\n",
    "        for x in range(0,len(face_cor)):\n",
    "            x1=face_cor[x][0]\n",
    "            y1=face_cor[x][1]\n",
    "            x2=x1+face_cor[x][2]\n",
    "            y2=y1+face_cor[x][3]\n",
    "            photo=cv2.rectangle(photo,(x1,y1),(x2,y2),[0,255,0])\n",
    "        for face in face_cor:\n",
    "            y = round((Face[0]*FOCUS/(face[2])),5)\n",
    "            if face[0]   < 240:\n",
    "                P = 480 - 2*(face[0] )\n",
    "                P_ = y * P /38\n",
    "                x = round((P_ * y / (FOCUS * 2)),5)\n",
    "                x = -x\n",
    "            elif face[0]   > 240:\n",
    "                P = 2*(face[0] ) - 480\n",
    "                P_ = y * P /38\n",
    "                x = round((P_ *y / (FOCUS * 2)),5)\n",
    "            else:\n",
    "                x = 0\n",
    "            faces.append((x,y))\n",
    "        print(faces)\n",
    "        warning = []\n",
    "        for face in faces:\n",
    "            warning.append([])\n",
    "        if len(faces)>1:\n",
    "            for a in range(len(faces)):\n",
    "                for b in range(a + 1,len(faces)):\n",
    "                    dist = (faces[a][0] - faces[b][0])**2 + ( faces[a][1] - faces[b][1])**2\n",
    "                    dist = round(math.sqrt(dist),5)\n",
    "                    if dist < 70:\n",
    "                        warning[a].append(b)\n",
    "                        warning[b].append(a)\n",
    "                        cv2.putText(photo,\"distance is \"+str(dist-8),(50,50),cv2.FONT_HERSHEY_SIMPLEX,1,[0,0,255],2)\n",
    "#                             pass\n",
    "    print(warning)\n",
    "    for war in range(len(warning)):\n",
    "        if len(warning[war])>0:\n",
    "            x1=face_cor[war][0]\n",
    "            y1=face_cor[war][1]\n",
    "            x2=x1+face_cor[war][2]\n",
    "            y2=y1+face_cor[war][3]\n",
    "            photo=cv2.rectangle(photo,(x1,y1),(x2,y2),[0,0,255])\n",
    "    str1 = ''\n",
    "    n = 0\n",
    "    if len(warning)>0:\n",
    "        for war in range(len(warning)):\n",
    "#             n = n+1\n",
    "            str1 += '\\n'\n",
    "            str1 += 'Person '\n",
    "            war3 = str(n)\n",
    "            str1 += war3\n",
    "            str1 += ' near to : '\n",
    "            for war2 in warning[war]:\n",
    "                str1 += str(war2)\n",
    "                str1 += ' , '\n",
    "            n = n+1\n",
    "    y0, dy = 50, 20\n",
    "    for i, line in enumerate(str1.split('\\n')):\n",
    "        y1 = y0 + i*dy\n",
    "        y1 = int(y1)\n",
    "        cv2.putText(photo, line , (0,y1) ,cv2.FONT_HERSHEY_SIMPLEX,0.5,[0,0,255],2)\n",
    "#         cv2.putText(photo, str1 , (50,200) ,cv2.FONT_HERSHEY_SIMPLEX,1,[0,0,255],3)\n",
    "    \n",
    "    out.write(photo)\n",
    "    cv2.imshow('hi',photo)\n",
    "    if cv2.waitKey(10)==13:\n",
    "        break\n",
    "cv2.destroyAllWindows()"
   ]
  },
  {
   "cell_type": "code",
   "execution_count": null,
   "metadata": {
    "collapsed": true
   },
   "outputs": [],
   "source": [
    "len(face_cor)"
   ]
  },
  {
   "cell_type": "code",
   "execution_count": null,
   "metadata": {},
   "outputs": [],
   "source": [
    "dist"
   ]
  },
  {
   "cell_type": "code",
   "execution_count": 13,
   "metadata": {
    "collapsed": true
   },
   "outputs": [],
   "source": [
    "cap.release()\n",
    "out.release()"
   ]
  },
  {
   "cell_type": "code",
   "execution_count": null,
   "metadata": {
    "collapsed": true
   },
   "outputs": [],
   "source": [
    "# cv2.imwrite('a1.jpg',pic[0])\n",
    "# cv2.imwrite('a2.jpg',pic[1])"
   ]
  },
  {
   "cell_type": "code",
   "execution_count": null,
   "metadata": {
    "collapsed": true
   },
   "outputs": [],
   "source": [
    "# gauss = cv2.GaussianBlur(photo, (7,7), 0)\n",
    "# # Apply Unsharp masking\n",
    "# unsharp_image = cv2.addWeighted(photo, 2, gauss, -1, 0)"
   ]
  },
  {
   "cell_type": "code",
   "execution_count": null,
   "metadata": {
    "collapsed": true
   },
   "outputs": [],
   "source": [
    "# photo.shape[0]"
   ]
  },
  {
   "cell_type": "code",
   "execution_count": null,
   "metadata": {
    "collapsed": true
   },
   "outputs": [],
   "source": [
    "# import numpy as np\n",
    "# import cv2\n",
    "\n",
    "# cap = cv2.VideoCapture(0)\n",
    "\n",
    "# # Define the codec and create VideoWriter object\n",
    "# #fourcc = cv2.cv.CV_FOURCC(*'DIVX')\n",
    "# #out = cv2.VideoWriter('output.avi',fourcc, 20.0, (640,480))\n",
    "# out = cv2.VideoWriter('output.avi', -1, 20.0, (640,480))\n",
    "\n",
    "# while(cap.isOpened()):\n",
    "#     ret, frame = cap.read()\n",
    "#     if ret==True:\n",
    "#         frame = cv2.flip(frame,0)\n",
    "\n",
    "#         # write the flipped frame\n",
    "#         out.write(frame)\n",
    "\n",
    "#         cv2.imshow('frame',frame)\n",
    "#         if cv2.waitKey(1) & 0xFF == ord('q'):\n",
    "#             break\n",
    "#     else:\n",
    "#         break\n",
    "\n",
    "# # Release everything if job is finished\n",
    "# cv2.destroyAllWindows()"
   ]
  },
  {
   "cell_type": "code",
   "execution_count": null,
   "metadata": {
    "collapsed": true
   },
   "outputs": [],
   "source": [
    "# cap.release()\n",
    "# out.release()"
   ]
  },
  {
   "cell_type": "code",
   "execution_count": null,
   "metadata": {
    "collapsed": true
   },
   "outputs": [],
   "source": [
    "# import smtplib\n",
    "\n",
    "# sender_email = \"narayanhari1997@gmail.com\"\n",
    "# rec_email = \"narayanharimittal@gmail.com\"\n",
    "# password = ''\n",
    "# message = \"Hey, this was sent using python\"\n",
    "\n",
    "# server = smtplib.SMTP('smtp.gmail.com', 587)\n",
    "# server.starttls()\n",
    "# server.login(sender_email, password)\n",
    "# print(\"Login success\")\n",
    "# server.sendmail(sender_email, rec_email, message)\n",
    "# print(\"Email has been sent to \", rec_email)"
   ]
  }
 ],
 "metadata": {
  "kernelspec": {
   "display_name": "Python 3",
   "language": "python",
   "name": "python3"
  },
  "language_info": {
   "codemirror_mode": {
    "name": "ipython",
    "version": 3
   },
   "file_extension": ".py",
   "mimetype": "text/x-python",
   "name": "python",
   "nbconvert_exporter": "python",
   "pygments_lexer": "ipython3",
   "version": "3.6.3"
  }
 },
 "nbformat": 4,
 "nbformat_minor": 2
}
